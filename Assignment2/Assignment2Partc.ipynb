{
  "nbformat": 4,
  "nbformat_minor": 0,
  "metadata": {
    "colab": {
      "provenance": []
    },
    "kernelspec": {
      "name": "python3",
      "display_name": "Python 3"
    },
    "language_info": {
      "name": "python"
    }
  },
  "cells": [
    {
      "cell_type": "markdown",
      "source": [
        "###PROBLEM: Do an link  prediction of graph\n",
        "SUBMITTED BY: SWATHI ANANDRAM"
      ],
      "metadata": {
        "id": "Lu2RamNaH6yt"
      }
    },
    {
      "cell_type": "markdown",
      "source": [
        "####Initial Setup"
      ],
      "metadata": {
        "id": "IpYt8fyQIBce"
      }
    },
    {
      "cell_type": "markdown",
      "source": [
        "#####Installing required packages"
      ],
      "metadata": {
        "id": "rehmeEW0ID7s"
      }
    },
    {
      "cell_type": "code",
      "execution_count": 1,
      "metadata": {
        "id": "x2BZ6fTUCxz9",
        "colab": {
          "base_uri": "https://localhost:8080/"
        },
        "outputId": "f5f6bc04-18f2-4f35-fb9b-f54ba8577764"
      },
      "outputs": [
        {
          "output_type": "stream",
          "name": "stdout",
          "text": [
            "1.12.1+cu113\n",
            "\u001b[K     |████████████████████████████████| 7.9 MB 5.3 MB/s \n",
            "\u001b[K     |████████████████████████████████| 3.5 MB 4.9 MB/s \n",
            "\u001b[?25hLooking in indexes: https://pypi.org/simple, https://us-python.pkg.dev/colab-wheels/public/simple/\n",
            "Collecting torch-geometric\n",
            "  Downloading torch_geometric-2.1.0.post1.tar.gz (467 kB)\n",
            "\u001b[K     |████████████████████████████████| 467 kB 5.3 MB/s \n",
            "\u001b[?25hRequirement already satisfied: tqdm in /usr/local/lib/python3.7/dist-packages (from torch-geometric) (4.64.1)\n",
            "Requirement already satisfied: numpy in /usr/local/lib/python3.7/dist-packages (from torch-geometric) (1.21.6)\n",
            "Requirement already satisfied: scipy in /usr/local/lib/python3.7/dist-packages (from torch-geometric) (1.7.3)\n",
            "Requirement already satisfied: jinja2 in /usr/local/lib/python3.7/dist-packages (from torch-geometric) (2.11.3)\n",
            "Requirement already satisfied: requests in /usr/local/lib/python3.7/dist-packages (from torch-geometric) (2.23.0)\n",
            "Requirement already satisfied: pyparsing in /usr/local/lib/python3.7/dist-packages (from torch-geometric) (3.0.9)\n",
            "Requirement already satisfied: scikit-learn in /usr/local/lib/python3.7/dist-packages (from torch-geometric) (1.0.2)\n",
            "Requirement already satisfied: MarkupSafe>=0.23 in /usr/local/lib/python3.7/dist-packages (from jinja2->torch-geometric) (2.0.1)\n",
            "Requirement already satisfied: certifi>=2017.4.17 in /usr/local/lib/python3.7/dist-packages (from requests->torch-geometric) (2022.9.24)\n",
            "Requirement already satisfied: idna<3,>=2.5 in /usr/local/lib/python3.7/dist-packages (from requests->torch-geometric) (2.10)\n",
            "Requirement already satisfied: chardet<4,>=3.0.2 in /usr/local/lib/python3.7/dist-packages (from requests->torch-geometric) (3.0.4)\n",
            "Requirement already satisfied: urllib3!=1.25.0,!=1.25.1,<1.26,>=1.21.1 in /usr/local/lib/python3.7/dist-packages (from requests->torch-geometric) (1.24.3)\n",
            "Requirement already satisfied: threadpoolctl>=2.0.0 in /usr/local/lib/python3.7/dist-packages (from scikit-learn->torch-geometric) (3.1.0)\n",
            "Requirement already satisfied: joblib>=0.11 in /usr/local/lib/python3.7/dist-packages (from scikit-learn->torch-geometric) (1.2.0)\n",
            "Building wheels for collected packages: torch-geometric\n",
            "  Building wheel for torch-geometric (setup.py) ... \u001b[?25l\u001b[?25hdone\n",
            "  Created wheel for torch-geometric: filename=torch_geometric-2.1.0.post1-py3-none-any.whl size=689859 sha256=109a32bbeea4bb7c916481f21c6e3e956bd8863c57ad45a48a22ae0406c56918\n",
            "  Stored in directory: /root/.cache/pip/wheels/d1/cb/43/f7f2e472de4d7cff31bceddadc36d634e1e545fbc17961c282\n",
            "Successfully built torch-geometric\n",
            "Installing collected packages: torch-geometric\n",
            "Successfully installed torch-geometric-2.1.0.post1\n",
            "2.1.0\n"
          ]
        }
      ],
      "source": [
        "import os\n",
        "import torch\n",
        "os.environ['TORCH'] = torch.__version__\n",
        "print(torch.__version__)\n",
        "\n",
        "!pip install -q torch-scatter -f https://data.pyg.org/whl/torch-${TORCH}.html\n",
        "!pip install -q torch-sparse -f https://data.pyg.org/whl/torch-${TORCH}.html\n",
        "!pip install torch-geometric\n",
        "\n",
        "import torch_geometric\n",
        "print(torch_geometric.__version__)"
      ]
    },
    {
      "cell_type": "code",
      "execution_count": 2,
      "metadata": {
        "id": "-Rn-IXMkCx0E"
      },
      "outputs": [],
      "source": [
        "import os.path as osp\n",
        "\n",
        "import torch\n",
        "from sklearn.metrics import roc_auc_score\n",
        "\n",
        "import torch_geometric.transforms as T\n",
        "from torch_geometric.datasets import Planetoid\n",
        "from torch_geometric.nn import GCNConv\n",
        "from torch_geometric.utils import negative_sampling\n",
        "\n",
        "device = torch.device('cuda' if torch.cuda.is_available() else 'cpu')"
      ]
    },
    {
      "cell_type": "markdown",
      "source": [
        "#####Loading Dataset"
      ],
      "metadata": {
        "id": "wXyPO7BhIMEm"
      }
    },
    {
      "cell_type": "code",
      "execution_count": 3,
      "metadata": {
        "id": "DTOBZpkICx0K",
        "colab": {
          "base_uri": "https://localhost:8080/"
        },
        "outputId": "c028eea2-7621-4818-f190-c5b1905c9816"
      },
      "outputs": [
        {
          "output_type": "stream",
          "name": "stderr",
          "text": [
            "Downloading https://github.com/kimiyoung/planetoid/raw/master/data/ind.cora.x\n",
            "Downloading https://github.com/kimiyoung/planetoid/raw/master/data/ind.cora.tx\n",
            "Downloading https://github.com/kimiyoung/planetoid/raw/master/data/ind.cora.allx\n",
            "Downloading https://github.com/kimiyoung/planetoid/raw/master/data/ind.cora.y\n",
            "Downloading https://github.com/kimiyoung/planetoid/raw/master/data/ind.cora.ty\n",
            "Downloading https://github.com/kimiyoung/planetoid/raw/master/data/ind.cora.ally\n",
            "Downloading https://github.com/kimiyoung/planetoid/raw/master/data/ind.cora.graph\n",
            "Downloading https://github.com/kimiyoung/planetoid/raw/master/data/ind.cora.test.index\n",
            "Processing...\n"
          ]
        },
        {
          "output_type": "stream",
          "name": "stdout",
          "text": [
            "Data(x=[2708, 1433], edge_index=[2, 7392], y=[2708], train_mask=[2708], val_mask=[2708], test_mask=[2708], edge_label=[3696], edge_label_index=[2, 3696])\n",
            "Data(x=[2708, 1433], edge_index=[2, 7392], y=[2708], train_mask=[2708], val_mask=[2708], test_mask=[2708], edge_label=[1054], edge_label_index=[2, 1054])\n",
            "Data(x=[2708, 1433], edge_index=[2, 8446], y=[2708], train_mask=[2708], val_mask=[2708], test_mask=[2708], edge_label=[2110], edge_label_index=[2, 2110])\n"
          ]
        },
        {
          "output_type": "stream",
          "name": "stderr",
          "text": [
            "Done!\n"
          ]
        }
      ],
      "source": [
        "# load the Cora dataset\n",
        "transform = T.Compose([\n",
        "    T.NormalizeFeatures(),\n",
        "    T.ToDevice(device),\n",
        "    T.RandomLinkSplit(num_val=0.10, num_test=0.20, neg_sampling_ratio = 1.0,\n",
        "                  is_undirected=True, add_negative_train_samples=False),\n",
        "])\n",
        "dataset = Planetoid('./data/Planetoid', name='Cora', transform=transform)\n",
        "# After applying the `RandomLinkSplit` transform, the data is transformed from\n",
        "# a data object to a list of tuples (train_data, val_data, test_data), with\n",
        "# each element representing the corresponding split.\n",
        "train_data, val_data, test_data = dataset[0]\n",
        "print(train_data)\n",
        "print(val_data)\n",
        "print(test_data)"
      ]
    },
    {
      "cell_type": "code",
      "source": [
        "(train_data.edge_index[0] <= train_data.edge_index[1]).sum()"
      ],
      "metadata": {
        "colab": {
          "base_uri": "https://localhost:8080/"
        },
        "id": "ccAPHlL--u8_",
        "outputId": "04bc4bc4-72a8-4905-a9b8-4ddd97d51743"
      },
      "execution_count": 4,
      "outputs": [
        {
          "output_type": "execute_result",
          "data": {
            "text/plain": [
              "tensor(3696)"
            ]
          },
          "metadata": {},
          "execution_count": 4
        }
      ]
    },
    {
      "cell_type": "code",
      "execution_count": 5,
      "metadata": {
        "id": "UP2GNPFNCx0Q"
      },
      "outputs": [],
      "source": [
        "class Net(torch.nn.Module):\n",
        "    def __init__(self, in_channels, hidden_channels, out_channels):\n",
        "        super().__init__()\n",
        "        self.conv1 = GCNConv(in_channels, hidden_channels)\n",
        "        self.conv2 = GCNConv(hidden_channels, out_channels)\n",
        "\n",
        "    def encode(self, x, edge_index):\n",
        "        x = self.conv1(x, edge_index).relu()\n",
        "        x = self.conv2(x, edge_index)\n",
        "        return x\n",
        "\n",
        "    def decode(self, z, edge_label_index):\n",
        "        return (z[edge_label_index[0]] * z[edge_label_index[1]]).sum(dim=-1)\n",
        "\n",
        "    def decode_all(self, z):\n",
        "        prob_adj = z @ z.t()\n",
        "        #return the indices of a non-zero element\n",
        "        return (prob_adj > 0).nonzero(as_tuple=False).t()"
      ]
    },
    {
      "cell_type": "code",
      "execution_count": 6,
      "metadata": {
        "id": "aShuz2QKCx0S"
      },
      "outputs": [],
      "source": [
        "model = Net(dataset.num_features, 128, 64).to(device)\n",
        "optimizer = torch.optim.Adam(params=model.parameters(), lr=0.01)\n",
        "criterion = torch.nn.BCEWithLogitsLoss()"
      ]
    },
    {
      "cell_type": "markdown",
      "source": [
        "#### Model Training\n",
        "Training with new negative samples for each training epoch\n",
        "\n",
        "Validation/Test evaluation with roc_auc_score (Area Under the Receiver Operating Characteristic Curve)"
      ],
      "metadata": {
        "id": "XFD_h5yNS2Pc"
      }
    },
    {
      "cell_type": "code",
      "execution_count": 7,
      "metadata": {
        "id": "h_7cZ5DLCx0T"
      },
      "outputs": [],
      "source": [
        "def train():\n",
        "    model.train()\n",
        "    optimizer.zero_grad()\n",
        "    z = model.encode(train_data.x, train_data.edge_index)\n",
        "\n",
        "    # We perform a new round of negative sampling for every training epoch:\n",
        "    neg_edge_index = negative_sampling(\n",
        "        edge_index=train_data.edge_index, num_nodes=train_data.num_nodes,\n",
        "        num_neg_samples=train_data.edge_label_index.size(1))\n",
        "\n",
        "    edge_label_index = torch.cat(\n",
        "        [train_data.edge_label_index, neg_edge_index],\n",
        "        dim=-1,\n",
        "    )\n",
        "    edge_label = torch.cat([\n",
        "        train_data.edge_label,\n",
        "        train_data.edge_label.new_zeros(neg_edge_index.size(1))\n",
        "    ], dim=0)\n",
        "\n",
        "    out = model.decode(z, edge_label_index).view(-1)\n",
        "    loss = criterion(out, edge_label)\n",
        "    loss.backward()\n",
        "    optimizer.step()\n",
        "    return loss\n",
        "\n",
        "\n",
        "@torch.no_grad()\n",
        "def test(data):\n",
        "    model.eval()\n",
        "    z = model.encode(data.x, data.edge_index)\n",
        "    out = model.decode(z, data.edge_label_index).view(-1).sigmoid()\n",
        "    return roc_auc_score(data.edge_label.cpu().numpy(), out.cpu().numpy())\n",
        "\n"
      ]
    },
    {
      "cell_type": "code",
      "execution_count": 8,
      "metadata": {
        "id": "kTrAei10Cx0V",
        "colab": {
          "base_uri": "https://localhost:8080/"
        },
        "outputId": "9cbc0ef2-3aa8-4a49-e22e-f8af2ba8dca7"
      },
      "outputs": [
        {
          "output_type": "stream",
          "name": "stdout",
          "text": [
            "Epoch: 001, Loss: 0.6930, Val: 0.6771, Test: 0.7027\n",
            "Epoch: 002, Loss: 0.6824, Val: 0.6733, Test: 0.6982\n",
            "Epoch: 003, Loss: 0.7145, Val: 0.6800, Test: 0.6998\n",
            "Epoch: 004, Loss: 0.6775, Val: 0.6960, Test: 0.7100\n",
            "Epoch: 005, Loss: 0.6861, Val: 0.7539, Test: 0.7610\n",
            "Epoch: 006, Loss: 0.6897, Val: 0.7794, Test: 0.7894\n",
            "Epoch: 007, Loss: 0.6910, Val: 0.7331, Test: 0.7424\n",
            "Epoch: 008, Loss: 0.6911, Val: 0.7056, Test: 0.7152\n",
            "Epoch: 009, Loss: 0.6906, Val: 0.6991, Test: 0.7086\n",
            "Epoch: 010, Loss: 0.6893, Val: 0.6988, Test: 0.7080\n",
            "Epoch: 011, Loss: 0.6869, Val: 0.6990, Test: 0.7085\n",
            "Epoch: 012, Loss: 0.6829, Val: 0.6979, Test: 0.7083\n",
            "Epoch: 013, Loss: 0.6791, Val: 0.6946, Test: 0.7072\n",
            "Epoch: 014, Loss: 0.6788, Val: 0.6910, Test: 0.7047\n",
            "Epoch: 015, Loss: 0.6760, Val: 0.6879, Test: 0.6995\n",
            "Epoch: 016, Loss: 0.6702, Val: 0.6849, Test: 0.6927\n",
            "Epoch: 017, Loss: 0.6644, Val: 0.6838, Test: 0.6874\n",
            "Epoch: 018, Loss: 0.6587, Val: 0.6859, Test: 0.6858\n",
            "Epoch: 019, Loss: 0.6540, Val: 0.6927, Test: 0.6889\n",
            "Epoch: 020, Loss: 0.6460, Val: 0.7027, Test: 0.6960\n",
            "Epoch: 021, Loss: 0.6369, Val: 0.7195, Test: 0.7098\n",
            "Epoch: 022, Loss: 0.6264, Val: 0.7446, Test: 0.7345\n",
            "Epoch: 023, Loss: 0.6154, Val: 0.7666, Test: 0.7608\n",
            "Epoch: 024, Loss: 0.6039, Val: 0.7696, Test: 0.7693\n",
            "Epoch: 025, Loss: 0.5969, Val: 0.7696, Test: 0.7673\n",
            "Epoch: 026, Loss: 0.5842, Val: 0.7723, Test: 0.7635\n",
            "Epoch: 027, Loss: 0.5683, Val: 0.7709, Test: 0.7593\n",
            "Epoch: 028, Loss: 0.5583, Val: 0.7679, Test: 0.7560\n",
            "Epoch: 029, Loss: 0.5621, Val: 0.7658, Test: 0.7537\n",
            "Epoch: 030, Loss: 0.5537, Val: 0.7699, Test: 0.7568\n",
            "Epoch: 031, Loss: 0.5466, Val: 0.7766, Test: 0.7631\n",
            "Epoch: 032, Loss: 0.5474, Val: 0.7830, Test: 0.7716\n",
            "Epoch: 033, Loss: 0.5414, Val: 0.7879, Test: 0.7799\n",
            "Epoch: 034, Loss: 0.5286, Val: 0.7941, Test: 0.7904\n",
            "Epoch: 035, Loss: 0.5317, Val: 0.7995, Test: 0.7983\n",
            "Epoch: 036, Loss: 0.5192, Val: 0.8043, Test: 0.8037\n",
            "Epoch: 037, Loss: 0.5146, Val: 0.8079, Test: 0.8070\n",
            "Epoch: 038, Loss: 0.5157, Val: 0.8123, Test: 0.8121\n",
            "Epoch: 039, Loss: 0.5043, Val: 0.8156, Test: 0.8191\n",
            "Epoch: 040, Loss: 0.5106, Val: 0.8181, Test: 0.8212\n",
            "Epoch: 041, Loss: 0.5026, Val: 0.8186, Test: 0.8191\n",
            "Epoch: 042, Loss: 0.5046, Val: 0.8189, Test: 0.8192\n",
            "Epoch: 043, Loss: 0.5115, Val: 0.8204, Test: 0.8234\n",
            "Epoch: 044, Loss: 0.5071, Val: 0.8213, Test: 0.8262\n",
            "Epoch: 045, Loss: 0.5021, Val: 0.8211, Test: 0.8248\n",
            "Epoch: 046, Loss: 0.4950, Val: 0.8202, Test: 0.8246\n",
            "Epoch: 047, Loss: 0.4940, Val: 0.8193, Test: 0.8261\n",
            "Epoch: 048, Loss: 0.5005, Val: 0.8207, Test: 0.8275\n",
            "Epoch: 049, Loss: 0.4969, Val: 0.8200, Test: 0.8258\n",
            "Epoch: 050, Loss: 0.4879, Val: 0.8203, Test: 0.8276\n",
            "Epoch: 051, Loss: 0.4987, Val: 0.8211, Test: 0.8303\n",
            "Epoch: 052, Loss: 0.4894, Val: 0.8205, Test: 0.8300\n",
            "Epoch: 053, Loss: 0.4858, Val: 0.8228, Test: 0.8308\n",
            "Epoch: 054, Loss: 0.4847, Val: 0.8269, Test: 0.8350\n",
            "Epoch: 055, Loss: 0.4882, Val: 0.8311, Test: 0.8410\n",
            "Epoch: 056, Loss: 0.4872, Val: 0.8334, Test: 0.8450\n",
            "Epoch: 057, Loss: 0.4919, Val: 0.8329, Test: 0.8425\n",
            "Epoch: 058, Loss: 0.4861, Val: 0.8345, Test: 0.8423\n",
            "Epoch: 059, Loss: 0.4842, Val: 0.8391, Test: 0.8481\n",
            "Epoch: 060, Loss: 0.4820, Val: 0.8430, Test: 0.8546\n",
            "Epoch: 061, Loss: 0.4796, Val: 0.8446, Test: 0.8528\n",
            "Epoch: 062, Loss: 0.4704, Val: 0.8445, Test: 0.8512\n",
            "Epoch: 063, Loss: 0.4769, Val: 0.8456, Test: 0.8532\n",
            "Epoch: 064, Loss: 0.4708, Val: 0.8497, Test: 0.8578\n",
            "Epoch: 065, Loss: 0.4809, Val: 0.8530, Test: 0.8602\n",
            "Epoch: 066, Loss: 0.4719, Val: 0.8534, Test: 0.8590\n",
            "Epoch: 067, Loss: 0.4737, Val: 0.8528, Test: 0.8577\n",
            "Epoch: 068, Loss: 0.4718, Val: 0.8553, Test: 0.8616\n",
            "Epoch: 069, Loss: 0.4722, Val: 0.8585, Test: 0.8653\n",
            "Epoch: 070, Loss: 0.4626, Val: 0.8596, Test: 0.8643\n",
            "Epoch: 071, Loss: 0.4676, Val: 0.8579, Test: 0.8601\n",
            "Epoch: 072, Loss: 0.4636, Val: 0.8601, Test: 0.8621\n",
            "Epoch: 073, Loss: 0.4625, Val: 0.8640, Test: 0.8686\n",
            "Epoch: 074, Loss: 0.4686, Val: 0.8660, Test: 0.8714\n",
            "Epoch: 075, Loss: 0.4715, Val: 0.8657, Test: 0.8687\n",
            "Epoch: 076, Loss: 0.4571, Val: 0.8648, Test: 0.8658\n",
            "Epoch: 077, Loss: 0.4557, Val: 0.8650, Test: 0.8662\n",
            "Epoch: 078, Loss: 0.4679, Val: 0.8679, Test: 0.8706\n",
            "Epoch: 079, Loss: 0.4608, Val: 0.8705, Test: 0.8741\n",
            "Epoch: 080, Loss: 0.4587, Val: 0.8707, Test: 0.8732\n",
            "Epoch: 081, Loss: 0.4552, Val: 0.8695, Test: 0.8712\n",
            "Epoch: 082, Loss: 0.4667, Val: 0.8705, Test: 0.8715\n",
            "Epoch: 083, Loss: 0.4571, Val: 0.8741, Test: 0.8748\n",
            "Epoch: 084, Loss: 0.4550, Val: 0.8762, Test: 0.8764\n",
            "Epoch: 085, Loss: 0.4494, Val: 0.8773, Test: 0.8763\n",
            "Epoch: 086, Loss: 0.4538, Val: 0.8781, Test: 0.8777\n",
            "Epoch: 087, Loss: 0.4478, Val: 0.8789, Test: 0.8803\n",
            "Epoch: 088, Loss: 0.4567, Val: 0.8824, Test: 0.8821\n",
            "Epoch: 089, Loss: 0.4564, Val: 0.8861, Test: 0.8843\n",
            "Epoch: 090, Loss: 0.4496, Val: 0.8880, Test: 0.8870\n",
            "Epoch: 091, Loss: 0.4498, Val: 0.8890, Test: 0.8889\n",
            "Epoch: 092, Loss: 0.4472, Val: 0.8885, Test: 0.8898\n",
            "Epoch: 093, Loss: 0.4408, Val: 0.8916, Test: 0.8924\n",
            "Epoch: 094, Loss: 0.4391, Val: 0.8944, Test: 0.8944\n",
            "Epoch: 095, Loss: 0.4437, Val: 0.8951, Test: 0.8948\n",
            "Epoch: 096, Loss: 0.4496, Val: 0.8957, Test: 0.8959\n",
            "Epoch: 097, Loss: 0.4431, Val: 0.8959, Test: 0.8966\n",
            "Epoch: 098, Loss: 0.4432, Val: 0.8978, Test: 0.8983\n",
            "Epoch: 099, Loss: 0.4378, Val: 0.8999, Test: 0.9004\n",
            "Epoch: 100, Loss: 0.4348, Val: 0.9007, Test: 0.9013\n",
            "Final Test: 0.9013\n"
          ]
        }
      ],
      "source": [
        "best_val_auc = final_test_auc = 0\n",
        "for epoch in range(1, 101):\n",
        "    loss = train()\n",
        "    val_auc = test(val_data)\n",
        "    test_auc = test(test_data)\n",
        "    if val_auc > best_val_auc:\n",
        "        best_val = val_auc\n",
        "        final_test_auc = test_auc\n",
        "    print(f'Epoch: {epoch:03d}, Loss: {loss:.4f}, Val: {val_auc:.4f}, '\n",
        "          f'Test: {test_auc:.4f}')\n",
        "\n",
        "print(f'Final Test: {final_test_auc:.4f}')"
      ]
    },
    {
      "cell_type": "code",
      "execution_count": 9,
      "metadata": {
        "id": "MQyu_6lSCx0W"
      },
      "outputs": [],
      "source": [
        "z = model.encode(test_data.x, test_data.edge_index)\n",
        "final_edge_index = model.decode_all(z)"
      ]
    },
    {
      "cell_type": "code",
      "execution_count": 10,
      "metadata": {
        "id": "3K6yf1jvCx0X",
        "colab": {
          "base_uri": "https://localhost:8080/"
        },
        "outputId": "43510f31-82b3-43b6-dbe5-9406459c67d1"
      },
      "outputs": [
        {
          "output_type": "execute_result",
          "data": {
            "text/plain": [
              "tensor([[   0,    0,    0,  ..., 2707, 2707, 2707],\n",
              "        [   0,    1,    2,  ..., 2704, 2706, 2707]])"
            ]
          },
          "metadata": {},
          "execution_count": 10
        }
      ],
      "source": [
        "final_edge_index"
      ]
    }
  ]
}